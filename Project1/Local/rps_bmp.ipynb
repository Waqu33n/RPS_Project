{
 "cells": [
  {
   "cell_type": "code",
   "execution_count": 1,
   "metadata": {},
   "outputs": [],
   "source": [
    "# Joaquin Rivera (jdr322)\n",
    "import numpy as np\n",
    "import matplotlib.pyplot as plt\n",
    "from tensorflow.keras import layers, models\n",
    "from tensorflow.keras.preprocessing.image import ImageDataGenerator\n",
    "from sklearn.model_selection import train_test_split"
   ]
  },
  {
   "cell_type": "code",
   "execution_count": null,
   "metadata": {},
   "outputs": [],
   "source": [
    "# Convert All JPEG files to BMP\n",
    "from PIL import Image\n",
    "import os\n",
    "\n",
    "# Directories\n",
    "jpeg_dir = \"training_set/scissors\" # Change these paths to the class you need to change\n",
    "bmp_dir = \"training_set_bmp/scissors\"\n",
    "\n",
    "# Ensure the BMP directory exists\n",
    "os.makedirs(bmp_dir, exist_ok=True)\n",
    "\n",
    "# Convert all JPEG images to BMP\n",
    "for filename in os.listdir(jpeg_dir):\n",
    "    if filename.endswith(\".jpg\") or filename.endswith(\".jpeg\"):\n",
    "        img = Image.open(os.path.join(jpeg_dir, filename))\n",
    "        bmp_filename = os.path.splitext(filename)[0] + \".bmp\"  # Change extension to .bmp\n",
    "        img.save(os.path.join(bmp_dir, bmp_filename), format=\"BMP\")\n"
   ]
  },
  {
   "cell_type": "code",
   "execution_count": null,
   "metadata": {},
   "outputs": [],
   "source": [
    "# Changes all bmp files from 96x96 to 32x32 (nned to apply to both training and testing set)\n",
    "def resize_images(input_dir, output_dir, size=(32, 32)):\n",
    "    if not os.path.exists(output_dir):\n",
    "        os.makedirs(output_dir)\n",
    "\n",
    "    for class_name in os.listdir(input_dir):\n",
    "        class_dir = os.path.join(input_dir, class_name)\n",
    "        output_class_dir = os.path.join(output_dir, class_name)\n",
    "        if not os.path.exists(output_class_dir):\n",
    "            os.makedirs(output_class_dir)\n",
    "\n",
    "        for img_name in os.listdir(class_dir):\n",
    "            img_path = os.path.join(class_dir, img_name)\n",
    "            img = Image.open(img_path).convert('L')  # Convert to grayscale\n",
    "            img_resized = img.resize(size)\n",
    "            img_resized.save(os.path.join(output_class_dir, img_name))\n",
    "\n",
    "resize_images('testing_set_bmp', 'testing_set_bmp', size=(32, 32))\n"
   ]
  },
  {
   "cell_type": "code",
   "execution_count": 7,
   "metadata": {},
   "outputs": [],
   "source": [
    "# Define paths to training and testing sets\n",
    "train_dir = \"training_set_bmp\"\n",
    "test_dir = \"testing_set_bmp\"\n",
    "\n",
    "# Create ImageDataGenerator to normalize pixel values and apply random brightness\n",
    "datagen = ImageDataGenerator(rescale=1.0/255.0, brightness_range=[.5,1.5])"
   ]
  },
  {
   "cell_type": "code",
   "execution_count": 8,
   "metadata": {},
   "outputs": [
    {
     "name": "stdout",
     "output_type": "stream",
     "text": [
      "Found 500 images belonging to 3 classes.\n",
      "Found 100 images belonging to 3 classes.\n",
      "Class indices: {'paper': 0, 'rock': 1, 'scissors': 2}\n"
     ]
    }
   ],
   "source": [
    "# Load images from directories\n",
    "train_generator_all = datagen.flow_from_directory(\n",
    "    train_dir,\n",
    "    target_size=(32, 32),\n",
    "    color_mode=\"grayscale\",\n",
    "    batch_size=32,\n",
    "    class_mode=\"categorical\",\n",
    "    shuffle=True\n",
    ")\n",
    "\n",
    "test_generator = datagen.flow_from_directory(\n",
    "    test_dir,\n",
    "    target_size=(32, 32),\n",
    "    color_mode=\"grayscale\",\n",
    "    batch_size=32,\n",
    "    class_mode=\"categorical\"\n",
    ")\n",
    "\n",
    "# Print class labels\n",
    "print(\"Class indices:\", train_generator_all.class_indices)"
   ]
  },
  {
   "cell_type": "code",
   "execution_count": 9,
   "metadata": {},
   "outputs": [],
   "source": [
    "# Create training and validation split\n",
    "X_train, y_train = [], []\n",
    "for _ in range(len(train_generator_all)):\n",
    "    imgs, labels = next(train_generator_all)\n",
    "    X_train.extend(imgs)\n",
    "    y_train.extend(labels)\n",
    "\n",
    "X_train = np.array(X_train)\n",
    "y_train = np.array(y_train)\n",
    "\n",
    "# Split into 400 training and 100 validation images\n",
    "X_train, X_val, y_train, y_val = train_test_split(X_train, y_train, test_size=100, train_size=400, stratify=y_train, random_state=42)"
   ]
  },
  {
   "cell_type": "code",
   "execution_count": 10,
   "metadata": {},
   "outputs": [],
   "source": [
    "# Define TinyMaix-compatible CNN architecture\n",
    "model = models.Sequential([\n",
    "    layers.Conv2D(16, (3,3), activation='relu', strides=1, padding='same', input_shape=(32, 32, 1)),  \n",
    "    layers.Conv2D(16, (3,3), activation='relu', strides=2, padding='same'),  # Replaces MaxPooling2D\n",
    "\n",
    "    layers.Conv2D(32, (3,3), activation='relu', strides=1, padding='same'),\n",
    "    layers.Conv2D(32, (3,3), activation='relu', strides=2, padding='same'),  # Replaces MaxPooling2D\n",
    "\n",
    "    layers.Flatten(),\n",
    "    layers.Dense(64, activation='relu'),\n",
    "    layers.Dropout(0.5),\n",
    "    layers.Dense(3, activation='softmax')\n",
    "])"
   ]
  },
  {
   "cell_type": "code",
   "execution_count": 11,
   "metadata": {},
   "outputs": [],
   "source": [
    "model.compile(optimizer='adam', loss='categorical_crossentropy', metrics=['accuracy'])"
   ]
  },
  {
   "cell_type": "code",
   "execution_count": 12,
   "metadata": {},
   "outputs": [
    {
     "name": "stdout",
     "output_type": "stream",
     "text": [
      "Model: \"sequential\"\n",
      "_________________________________________________________________\n",
      " Layer (type)                Output Shape              Param #   \n",
      "=================================================================\n",
      " conv2d (Conv2D)             (None, 32, 32, 16)        160       \n",
      "                                                                 \n",
      " conv2d_1 (Conv2D)           (None, 16, 16, 16)        2320      \n",
      "                                                                 \n",
      " conv2d_2 (Conv2D)           (None, 16, 16, 32)        4640      \n",
      "                                                                 \n",
      " conv2d_3 (Conv2D)           (None, 8, 8, 32)          9248      \n",
      "                                                                 \n",
      " flatten (Flatten)           (None, 2048)              0         \n",
      "                                                                 \n",
      " dense (Dense)               (None, 64)                131136    \n",
      "                                                                 \n",
      " dropout (Dropout)           (None, 64)                0         \n",
      "                                                                 \n",
      " dense_1 (Dense)             (None, 3)                 195       \n",
      "                                                                 \n",
      "=================================================================\n",
      "Total params: 147699 (576.95 KB)\n",
      "Trainable params: 147699 (576.95 KB)\n",
      "Non-trainable params: 0 (0.00 Byte)\n",
      "_________________________________________________________________\n"
     ]
    }
   ],
   "source": [
    "model.summary()"
   ]
  },
  {
   "cell_type": "code",
   "execution_count": 13,
   "metadata": {},
   "outputs": [
    {
     "name": "stdout",
     "output_type": "stream",
     "text": [
      "Epoch 1/30\n",
      "13/13 [==============================] - 2s 44ms/step - loss: 1.0973 - accuracy: 0.3500 - val_loss: 1.0909 - val_accuracy: 0.4700\n",
      "Epoch 2/30\n",
      "13/13 [==============================] - 0s 23ms/step - loss: 1.0864 - accuracy: 0.3625 - val_loss: 1.0693 - val_accuracy: 0.3300\n",
      "Epoch 3/30\n",
      "13/13 [==============================] - 0s 23ms/step - loss: 1.0723 - accuracy: 0.4150 - val_loss: 1.0375 - val_accuracy: 0.3500\n",
      "Epoch 4/30\n",
      "13/13 [==============================] - 0s 22ms/step - loss: 1.0502 - accuracy: 0.4375 - val_loss: 1.0087 - val_accuracy: 0.5500\n",
      "Epoch 5/30\n",
      "13/13 [==============================] - 0s 22ms/step - loss: 0.9678 - accuracy: 0.5525 - val_loss: 0.9098 - val_accuracy: 0.6100\n",
      "Epoch 6/30\n",
      "13/13 [==============================] - 0s 22ms/step - loss: 0.8876 - accuracy: 0.6025 - val_loss: 0.7746 - val_accuracy: 0.7100\n",
      "Epoch 7/30\n",
      "13/13 [==============================] - 0s 22ms/step - loss: 0.7970 - accuracy: 0.6225 - val_loss: 0.8765 - val_accuracy: 0.6000\n",
      "Epoch 8/30\n",
      "13/13 [==============================] - 0s 25ms/step - loss: 0.8035 - accuracy: 0.5850 - val_loss: 0.7182 - val_accuracy: 0.6700\n",
      "Epoch 9/30\n",
      "13/13 [==============================] - 0s 22ms/step - loss: 0.7381 - accuracy: 0.6275 - val_loss: 0.7087 - val_accuracy: 0.7200\n",
      "Epoch 10/30\n",
      "13/13 [==============================] - 0s 25ms/step - loss: 0.6462 - accuracy: 0.7100 - val_loss: 0.6491 - val_accuracy: 0.6700\n",
      "Epoch 11/30\n",
      "13/13 [==============================] - 0s 25ms/step - loss: 0.5743 - accuracy: 0.7450 - val_loss: 0.7168 - val_accuracy: 0.7000\n",
      "Epoch 12/30\n",
      "13/13 [==============================] - 0s 22ms/step - loss: 0.6141 - accuracy: 0.7100 - val_loss: 0.6178 - val_accuracy: 0.7700\n",
      "Epoch 13/30\n",
      "13/13 [==============================] - 0s 24ms/step - loss: 0.5612 - accuracy: 0.7275 - val_loss: 0.6188 - val_accuracy: 0.7500\n",
      "Epoch 14/30\n",
      "13/13 [==============================] - 0s 22ms/step - loss: 0.5386 - accuracy: 0.7725 - val_loss: 0.5859 - val_accuracy: 0.7800\n",
      "Epoch 15/30\n",
      "13/13 [==============================] - 0s 21ms/step - loss: 0.4616 - accuracy: 0.7775 - val_loss: 0.5748 - val_accuracy: 0.7800\n",
      "Epoch 16/30\n",
      "13/13 [==============================] - 0s 22ms/step - loss: 0.4595 - accuracy: 0.8025 - val_loss: 0.5432 - val_accuracy: 0.6800\n",
      "Epoch 17/30\n",
      "13/13 [==============================] - 0s 22ms/step - loss: 0.4672 - accuracy: 0.7875 - val_loss: 0.5973 - val_accuracy: 0.7800\n",
      "Epoch 18/30\n",
      "13/13 [==============================] - 0s 22ms/step - loss: 0.4202 - accuracy: 0.8050 - val_loss: 0.5482 - val_accuracy: 0.7300\n",
      "Epoch 19/30\n",
      "13/13 [==============================] - 0s 22ms/step - loss: 0.4305 - accuracy: 0.8125 - val_loss: 0.4711 - val_accuracy: 0.8100\n",
      "Epoch 20/30\n",
      "13/13 [==============================] - 0s 22ms/step - loss: 0.3971 - accuracy: 0.8500 - val_loss: 0.5098 - val_accuracy: 0.7800\n",
      "Epoch 21/30\n",
      "13/13 [==============================] - 0s 21ms/step - loss: 0.3506 - accuracy: 0.8575 - val_loss: 0.7018 - val_accuracy: 0.7400\n",
      "Epoch 22/30\n",
      "13/13 [==============================] - 0s 22ms/step - loss: 0.4010 - accuracy: 0.8300 - val_loss: 0.5223 - val_accuracy: 0.8100\n",
      "Epoch 23/30\n",
      "13/13 [==============================] - 0s 22ms/step - loss: 0.3842 - accuracy: 0.8300 - val_loss: 0.4971 - val_accuracy: 0.8500\n",
      "Epoch 24/30\n",
      "13/13 [==============================] - 0s 23ms/step - loss: 0.3238 - accuracy: 0.8575 - val_loss: 0.5071 - val_accuracy: 0.8000\n",
      "Epoch 25/30\n",
      "13/13 [==============================] - 0s 22ms/step - loss: 0.3279 - accuracy: 0.8350 - val_loss: 0.4990 - val_accuracy: 0.7700\n",
      "Epoch 26/30\n",
      "13/13 [==============================] - 0s 23ms/step - loss: 0.2934 - accuracy: 0.8925 - val_loss: 0.4966 - val_accuracy: 0.7600\n",
      "Epoch 27/30\n",
      "13/13 [==============================] - 0s 23ms/step - loss: 0.2695 - accuracy: 0.8875 - val_loss: 0.4564 - val_accuracy: 0.8600\n",
      "Epoch 28/30\n",
      "13/13 [==============================] - 0s 22ms/step - loss: 0.2236 - accuracy: 0.9175 - val_loss: 0.4667 - val_accuracy: 0.8400\n",
      "Epoch 29/30\n",
      "13/13 [==============================] - 0s 22ms/step - loss: 0.2343 - accuracy: 0.9025 - val_loss: 0.4664 - val_accuracy: 0.8400\n",
      "Epoch 30/30\n",
      "13/13 [==============================] - 0s 22ms/step - loss: 0.1755 - accuracy: 0.9500 - val_loss: 0.4971 - val_accuracy: 0.8700\n"
     ]
    }
   ],
   "source": [
    "history = model.fit(\n",
    "    X_train, y_train,\n",
    "    epochs=30,\n",
    "    validation_data=(X_val, y_val)\n",
    ")"
   ]
  },
  {
   "cell_type": "code",
   "execution_count": 14,
   "metadata": {},
   "outputs": [
    {
     "name": "stdout",
     "output_type": "stream",
     "text": [
      "4/4 [==============================] - 1s 334ms/step - loss: 0.9516 - accuracy: 0.8100\n",
      "Test Accuracy: 81.00%\n"
     ]
    }
   ],
   "source": [
    "test_loss, test_acc = model.evaluate(test_generator)\n",
    "print(f\"Test Accuracy: {test_acc * 100:.2f}%\")"
   ]
  },
  {
   "cell_type": "code",
   "execution_count": 18,
   "metadata": {},
   "outputs": [
    {
     "name": "stderr",
     "output_type": "stream",
     "text": [
      "c:\\Users\\joaqu\\.conda\\envs\\joaquiniscool\\lib\\site-packages\\keras\\src\\engine\\training.py:3079: UserWarning: You are saving your model as an HDF5 file via `model.save()`. This file format is considered legacy. We recommend using instead the native Keras format, e.g. `model.save('my_model.keras')`.\n",
      "  saving_api.save_model(\n"
     ]
    }
   ],
   "source": [
    "model.save(\"final_model.h5\")"
   ]
  },
  {
   "cell_type": "code",
   "execution_count": 22,
   "metadata": {},
   "outputs": [
    {
     "name": "stdout",
     "output_type": "stream",
     "text": [
      "1/1 [==============================] - 2s 2s/step\n",
      "1/1 [==============================] - 0s 64ms/step\n",
      "1/1 [==============================] - 0s 38ms/step\n",
      "1/1 [==============================] - 0s 49ms/step\n",
      "1/1 [==============================] - 0s 36ms/step\n",
      "1/1 [==============================] - 0s 36ms/step\n",
      "1/1 [==============================] - 0s 33ms/step\n",
      "1/1 [==============================] - 0s 43ms/step\n",
      "1/1 [==============================] - 0s 45ms/step\n",
      "1/1 [==============================] - 0s 46ms/step\n"
     ]
    },
    {
     "data": {
      "image/png": "[encoded data removed]",
      "text/plain": [
       "<Figure size 1000x500 with 10 Axes>"
      ]
     },
     "metadata": {},
     "output_type": "display_data"
    }
   ],
   "source": [
    "classes = ['Paper', 'Rock', 'Scissors']\n",
    "imgs, labels = next(test_generator)\n",
    "fig = plt.figure(0, figsize=(10, 5))\n",
    "fig.suptitle(\"Truth vs Prediction\", fontsize=14)\n",
    "plt.tight_layout(pad=2.0)\n",
    "\n",
    "for i in range(10):\n",
    "    ax = fig.add_subplot(2, 5, i+1)\n",
    "    truth = classes[np.argmax(labels[i])]\n",
    "    pred = classes[np.argmax(model.predict(np.expand_dims(imgs[i], axis=0)))]\n",
    "\n",
    "    ax.text(0.5, -0.2, f\"Truth: {truth}\\nPrediction: {pred}\", \n",
    "            fontsize=10, ha='center', transform=ax.transAxes)  # Move label below image\n",
    "    ax.imshow(imgs[i], cmap='gray')\n",
    "    ax.axis('off')\n",
    "\n",
    "plt.show()\n",
    "\n"
   ]
  }
 ],
 "metadata": {
  "kernelspec": {
   "display_name": "joaquiniscool",
   "language": "python",
   "name": "python3"
  },
  "language_info": {
   "codemirror_mode": {
    "name": "ipython",
    "version": 3
   },
   "file_extension": ".py",
   "mimetype": "text/x-python",
   "name": "python",
   "nbconvert_exporter": "python",
   "pygments_lexer": "ipython3",
   "version": "3.9.19"
  }
 },
 "nbformat": 4,
 "nbformat_minor": 2
}
